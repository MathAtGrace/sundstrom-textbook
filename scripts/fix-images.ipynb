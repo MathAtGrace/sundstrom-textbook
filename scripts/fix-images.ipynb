{
 "cells": [
  {
   "cell_type": "markdown",
   "id": "ea697856-77cd-4761-9aef-cb80b983311d",
   "metadata": {},
   "source": [
    "# Fix slideshow images\n",
    "Python script for patching image issues with pretext conversion to reveal.js"
   ]
  },
  {
   "cell_type": "code",
   "execution_count": 6,
   "id": "cf4bf318-972c-43f8-b4da-2fa2ea3d5f00",
   "metadata": {},
   "outputs": [],
   "source": [
    "from bs4 import BeautifulSoup"
   ]
  },
  {
   "cell_type": "code",
   "execution_count": 117,
   "id": "49781473-6f6e-42a5-bf43-2b6c94ce980d",
   "metadata": {},
   "outputs": [],
   "source": [
    "sec_num = \"11-1\""
   ]
  },
  {
   "cell_type": "code",
   "execution_count": 118,
   "id": "48146120-4153-489c-b8fa-910ae0b0e8f0",
   "metadata": {},
   "outputs": [],
   "source": [
    "filename = \"../../slides/sec-\" + sec_num + \".html\""
   ]
  },
  {
   "cell_type": "code",
   "execution_count": 124,
   "id": "ea0265cf-9776-4773-9e6e-0ee00c92ab46",
   "metadata": {},
   "outputs": [],
   "source": [
    "size = {\n",
    "    \"2-3/bob_and_tim.png\" : {\"height\": \"800\"},\n",
    "    \"2-3/bell_curve.png\" : {\"width\" : \"1800\"},\n",
    "    \"3-1/gettysburg_1.png\" : {\"height\": \"800\"},\n",
    "    \"3-1/word_length_1.png\" : {\"height\": \"700\"},\n",
    "    \"3-1/gettysburg_2.png\" : {\"height\": \"800\"},\n",
    "    \"3-1/random_num_app.png\" : {\"height\": \"300\"},\n",
    "    \"3-1/five_nums.png\" : {\"width\": \"1800\"},\n",
    "    \"3-1/samp_words_app.png\" : {\"width\" : \"500\"},\n",
    "    \"3-1/word_length_2.png\" : {\"height\": \"800\"},\n",
    "    \"3-1/gettysburg_3.png\" : {\"height\": \"800\"},\n",
    "    \"3-1/gettysburg_4.png\" : {\"height\": \"800\"},\n",
    "    \"3-1/fig-3-1-1.png\" : {\"height\": \"800\"},\n",
    "    \"3-2/fig-3-2-1.png\" : {\"height\": \"800\"},\n",
    "    \"3-2/fig-3-2-2.png\" : {\"height\": \"800\"},\n",
    "    \"3-2/question-11-a.png\" : {\"height\": \"700\"},\n",
    "    \"3-3/descr-stats.png\" : {\"height\" : \"800\"},\n",
    "    \"3-4/spreadsheet.png\" : {\"height\" : \"800\"},\n",
    "    \"5-1/confounding.png\" : {\"height\" : \"800\"},\n",
    "    \"5-2/random.png\" : {\"height\" : \"800\"},\n",
    "    \"6-1/empty_graph.png\" : {\"height\" : \"800\"},\n",
    "    \"6-3/screenshot.png\" : {\"height\" : \"800\"},\n",
    "    \"7-1/boxplot.png\" : {\"height\" : \"800\"},\n",
    "    \"7-2/fig-7-2-1.png\" : {\"height\" : \"800\"},\n",
    "    \"7-2/sleep-data.png\" : {\"height\" : \"800\"},\n",
    "    \"7-2/axis.png\" : {\"height\" : \"800\"},\n",
    "    \"8-1/first_base.png\" : {\"height\" : \"808\"},\n",
    "    \"11-1/fig-11-1-1.png\" : {\"height\" : \"808\"},\n",
    "    \"11-1/fig-11-1-2.png\" : {\"height\" : \"808\"}\n",
    "}\n",
    "size_2 = dict((\"../code/assets/\"+key, value) for (key, value) in size.items())\n",
    "size.update(size_2)"
   ]
  },
  {
   "cell_type": "markdown",
   "id": "dc713a43-ad19-4ce5-be81-cc36a901c0cd",
   "metadata": {},
   "source": [
    "add \"../../assets\" to src filenames and set heights"
   ]
  },
  {
   "cell_type": "code",
   "execution_count": 125,
   "id": "3e7a6a21-cbed-4ee1-8eaa-d0d1fd3dddd5",
   "metadata": {},
   "outputs": [],
   "source": [
    "with open(filename, encoding='utf8') as fp:\n",
    "    soup = BeautifulSoup(fp, 'html.parser')"
   ]
  },
  {
   "cell_type": "code",
   "execution_count": 126,
   "id": "19171098-2729-4d18-816a-35b2967c963f",
   "metadata": {},
   "outputs": [
    {
     "name": "stdout",
     "output_type": "stream",
     "text": [
      "\"11-1/fig-11-1-1.png\"\n",
      "\"11-1/fig-11-1-2.png\"\n"
     ]
    }
   ],
   "source": [
    "images = soup.find_all('img')\n",
    "for image in images:\n",
    "    print(\"\\\"\" + image['src'] + \"\\\"\")"
   ]
  },
  {
   "cell_type": "code",
   "execution_count": 127,
   "id": "01f8dfdc-d29a-46b5-a468-3b9c0df8a800",
   "metadata": {},
   "outputs": [],
   "source": [
    "images = soup.find_all('img')\n",
    "for image in images:\n",
    "    image.attrs.update(size[image['src']])\n",
    "    if 'assets' not in image['src']:\n",
    "        image['src'] = '../code/assets/' + image['src']"
   ]
  },
  {
   "cell_type": "markdown",
   "id": "f8fb0626-d458-4b69-9e18-1c9126cd5adf",
   "metadata": {},
   "source": [
    "Remove all of the figure numbers that Pretext creates because they are wrong"
   ]
  },
  {
   "cell_type": "code",
   "execution_count": 128,
   "id": "b2d5d22d-1fb8-4cc6-991e-b62bd0a8276a",
   "metadata": {},
   "outputs": [
    {
     "name": "stdout",
     "output_type": "stream",
     "text": [
      "None\n",
      "None\n",
      "Figure 1121: Scatterplot of height and year colored by event, males in blue and females in orange\n",
      "Scatterplot of female champions of Wimbledon (1887-2019) and male champions of Wimbledon (1881-2019)\n"
     ]
    }
   ],
   "source": [
    "for figcaption in soup.findAll(\"figcaption\"):\n",
    "    for child in figcaption.findChildren('span'):\n",
    "        child.extract()\n",
    "    print(figcaption.string)\n",
    "for codenumber in soup.findAll('span', {'class':'codenumber'}):\n",
    "    codenumber.extract()"
   ]
  },
  {
   "cell_type": "code",
   "execution_count": 129,
   "id": "3b0275dd-541a-425d-8b46-1dcb0e711839",
   "metadata": {},
   "outputs": [
    {
     "data": {
      "text/plain": [
       "[<img height=\"808\" src=\"../code/assets/11-1/fig-11-1-1.png\"/>,\n",
       " <img height=\"808\" src=\"../code/assets/11-1/fig-11-1-2.png\"/>]"
      ]
     },
     "execution_count": 129,
     "metadata": {},
     "output_type": "execute_result"
    }
   ],
   "source": [
    "images"
   ]
  },
  {
   "cell_type": "code",
   "execution_count": 130,
   "id": "c9c881d8-e7b7-4a1b-a5de-c93c73c74f37",
   "metadata": {},
   "outputs": [],
   "source": [
    "with open(filename, \"w\", encoding='utf8') as fp:\n",
    "    fp.write(str(soup))"
   ]
  },
  {
   "cell_type": "code",
   "execution_count": null,
   "id": "54bf5332-90ea-4565-997a-39a590776a76",
   "metadata": {},
   "outputs": [],
   "source": []
  },
  {
   "cell_type": "code",
   "execution_count": null,
   "id": "4e15021d-afba-46ac-a0d0-50e6be6c76c5",
   "metadata": {},
   "outputs": [],
   "source": []
  }
 ],
 "metadata": {
  "kernelspec": {
   "display_name": "Python 3 (ipykernel)",
   "language": "python",
   "name": "python3"
  },
  "language_info": {
   "codemirror_mode": {
    "name": "ipython",
    "version": 3
   },
   "file_extension": ".py",
   "mimetype": "text/x-python",
   "name": "python",
   "nbconvert_exporter": "python",
   "pygments_lexer": "ipython3",
   "version": "3.11.5"
  }
 },
 "nbformat": 4,
 "nbformat_minor": 5
}
