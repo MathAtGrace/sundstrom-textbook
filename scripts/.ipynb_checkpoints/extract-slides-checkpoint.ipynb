{
 "cells": [
  {
   "cell_type": "code",
   "execution_count": 54,
   "id": "3da819cf-20e8-46e2-8cc6-0e7348aeb99c",
   "metadata": {
    "editable": true,
    "slideshow": {
     "slide_type": ""
    },
    "tags": []
   },
   "outputs": [],
   "source": [
    "from lxml import etree as ET\n",
    "#Not sure if I'll need:\n",
    "#import subprocess\n",
    "#from pathlib import Path"
   ]
  },
  {
   "cell_type": "markdown",
   "id": "0c797473-ffe4-43b5-96a2-784baa235c6b",
   "metadata": {},
   "source": [
    "Section number"
   ]
  },
  {
   "cell_type": "code",
   "execution_count": 55,
   "id": "5ffa5815-8f62-44c9-b680-b81fb86e9713",
   "metadata": {},
   "outputs": [],
   "source": [
    "sec_num='2-4'"
   ]
  },
  {
   "cell_type": "markdown",
   "id": "ca569bd4-66c3-4fb5-a036-c0e1261e3748",
   "metadata": {},
   "source": [
    "Input and Output files"
   ]
  },
  {
   "cell_type": "code",
   "execution_count": 56,
   "id": "abd8108c-d25f-454b-bfd4-9a5759e3c79a",
   "metadata": {},
   "outputs": [],
   "source": [
    "input = '../source/section-' + sec_num + '.ptx'\n",
    "output = '../source/slides-' + sec_num + '.ptx'"
   ]
  },
  {
   "cell_type": "markdown",
   "id": "0e587d6c-2dce-4f52-9bec-3a5ac98f08da",
   "metadata": {},
   "source": [
    "Parse the section file and the docinfo as xml trees"
   ]
  },
  {
   "cell_type": "code",
   "execution_count": 57,
   "id": "92087644-f2a6-40a9-959a-a6d559a84ab3",
   "metadata": {},
   "outputs": [],
   "source": [
    "section_tree = ET.parse(input)\n",
    "section = section_tree.getroot()\n",
    "section.tag = 'slideshow'\n",
    "section.attrib.clear()\n",
    "docinfo_tree = ET.parse('../source/meta_docinfo.ptx')\n",
    "docinfo = docinfo_tree.getroot()\n",
    "#ET.tostring(section_tree)\n",
    "#ET.tostring(docinfo_tree)"
   ]
  },
  {
   "cell_type": "markdown",
   "id": "d3d8b13b-6095-4056-90da-88bede81504b",
   "metadata": {},
   "source": [
    "Create the new xml tree and isert the previous trees"
   ]
  },
  {
   "cell_type": "code",
   "execution_count": 58,
   "id": "85b762fa-928a-4ac8-9b6b-33a3524f645c",
   "metadata": {},
   "outputs": [],
   "source": [
    "slides = ET.Element('pretext')\n",
    "slides.insert(0, docinfo)\n",
    "slides.append(section)\n",
    "slides_tree = ET.ElementTree(slides)\n",
    "#ET.tostring(slides)"
   ]
  },
  {
   "cell_type": "markdown",
   "id": "85b1dbe1-4063-4de7-bfde-c759f8601a93",
   "metadata": {},
   "source": [
    "Add subtitle, frontmatter, and jesus creed"
   ]
  },
  {
   "cell_type": "code",
   "execution_count": 59,
   "id": "6177f1b4-8fa5-4558-a491-038875a0df8f",
   "metadata": {},
   "outputs": [
    {
     "name": "stdout",
     "output_type": "stream",
     "text": [
      "2-4 : What impacts strength of evidence?\n"
     ]
    }
   ],
   "source": [
    "title = slides.find('.//title')\n",
    "title.text = sec_num + ' : ' + title.text\n",
    "subtitle = ET.parse('subtitle.txt').getroot()\n",
    "front_matter = ET.parse('front_matter.txt').getroot()\n",
    "jesus_creed = ET.parse('jesus-creed.txt').getroot()\n",
    "title.addnext(subtitle)\n",
    "subtitle.addnext(front_matter)\n",
    "front_matter.addnext(jesus_creed)\n",
    "#ET.tostring(slides)\n",
    "print(title.text)"
   ]
  },
  {
   "cell_type": "markdown",
   "id": "27f7630c-11e5-4ccd-a528-7bd2204bd558",
   "metadata": {},
   "source": [
    "Delete the title of the exercises tag and unwrap the exercises tag"
   ]
  },
  {
   "cell_type": "code",
   "execution_count": 60,
   "id": "8c3e89f0-bcda-4916-b866-e052eb9188ac",
   "metadata": {},
   "outputs": [],
   "source": [
    "ex_title = slides.find('.//exercises')[0]\n",
    "ex_title.getparent().remove(ex_title)\n",
    "ET.strip_tags(slides, 'exercises')"
   ]
  },
  {
   "cell_type": "markdown",
   "id": "e0fd60bd-56d6-4d9e-9992-60891a1bff47",
   "metadata": {},
   "source": [
    "Make a slide for every block.  That is, every exercise, definition, remark, insight, convention, figure, activity, or table.  For exercises that break into tasks split into a slide for every task."
   ]
  },
  {
   "cell_type": "code",
   "execution_count": 61,
   "id": "878bd717-8e04-405e-955d-f6711d26d3fd",
   "metadata": {},
   "outputs": [],
   "source": [
    "for num, block in enumerate(slides.iter(tag=('definition','remark', 'insight', 'convention', 'figure', 'activity', 'table', 'exercise'))):\n",
    "    if block.tag == \"exercise\":\n",
    "        if block.find('task') is not None:\n",
    "            for intro in block.iter('introduction'):\n",
    "                intro.tag = 'slide'\n",
    "                if block.find('title') is not None:\n",
    "                    slide_title = ET.Element('title') \n",
    "                    slide_title = block.find('title')\n",
    "                    slide_title.text = 'block ' + str(num + 1) + ': ' + slide_title.text\n",
    "                else:\n",
    "                    slide_title = ET.Element('title') \n",
    "                    slide_title.text = 'Exercise ' + str(num + 1)\n",
    "                intro.insert(0,slide_title)\n",
    "            for a, task in enumerate(block.iter('task')):\n",
    "                ET.strip_tags(task, 'statement')\n",
    "                ET.strip_elements(task, 'solution')\n",
    "                slide_title = ET.Element('title') \n",
    "                slide_title.text = 'Exercise ' + str(num + 1) + chr(a + 97) + ': '\n",
    "                task.insert(0, slide_title)\n",
    "                task.tag = 'slide'\n",
    "            for concl in block.iter('conclusion'):\n",
    "                concl.tag = 'slide'\n",
    "        else:\n",
    "            block.tag = 'slide'\n",
    "            ET.strip_tags(block, 'statement')\n",
    "            ET.strip_elements(block, 'solution')\n",
    "            slide_title = ET.Element('title')\n",
    "            slide_title.text = 'Exercise ' + str(num + 1)\n",
    "            block.insert(0,slide_title)\n",
    "    else:\n",
    "        slide = ET.Element('slide')\n",
    "        block.addprevious(slide)\n",
    "        slide.insert(0,block)\n",
    "        slide_title = ET.Element('title') \n",
    "        slide_title.text = block.tag.title() + ' ' + str(num + 1) + ': '\n",
    "        slide.insert(0,slide_title)\n",
    "\n",
    "#print(ET.tostring(slides))\n",
    "#When exercises have tasks, we still need to unwrap the original exercises\n",
    "ET.strip_tags(slides, 'exercise')"
   ]
  },
  {
   "cell_type": "code",
   "execution_count": 62,
   "id": "8ce4e394-23b1-4eab-b406-54f7e57d16fa",
   "metadata": {},
   "outputs": [],
   "source": [
    "#ET.tostring(slides)"
   ]
  },
  {
   "cell_type": "code",
   "execution_count": 63,
   "id": "55c95f75-a33b-4ac3-8b65-877b153d9af5",
   "metadata": {},
   "outputs": [],
   "source": [
    "for subsec in slides.iter('exercises'):\n",
    "    for p in subsec.findall('p'):\n",
    "        print(p.text)"
   ]
  },
  {
   "cell_type": "markdown",
   "id": "17a4c546-8b80-4b88-9247-c79adc062924",
   "metadata": {},
   "source": [
    "Change all subsections to sections, and wrap loose paragraphs and images in slides"
   ]
  },
  {
   "cell_type": "code",
   "execution_count": 64,
   "id": "c658376e-643e-4a85-b625-55080aa2f305",
   "metadata": {},
   "outputs": [],
   "source": [
    "for subsec in slides.iter('subsection', 'slideshow'):\n",
    "    if subsec.tag == 'subsection':\n",
    "        subsec.tag = 'section'\n",
    "    for p in subsec.findall('p') + subsec.findall('image'):\n",
    "        slide = ET.Element('slide')\n",
    "        p.addprevious(slide)\n",
    "        slide.insert(0,p)"
   ]
  },
  {
   "cell_type": "markdown",
   "id": "053dd5f8-64c3-4ab8-85b3-1418ffd1c207",
   "metadata": {},
   "source": [
    "Write to a file"
   ]
  },
  {
   "cell_type": "code",
   "execution_count": 65,
   "id": "9cfc6a00-38ae-4382-9316-a17c687c6613",
   "metadata": {},
   "outputs": [],
   "source": [
    "ET.indent(slides_tree)\n",
    "slides_tree.write(output, encoding='UTF-8', xml_declaration=True)\n",
    "#??slides_tree.write"
   ]
  },
  {
   "cell_type": "code",
   "execution_count": 39,
   "id": "6118bf39-231c-422f-b57a-1fc3b4f4c2eb",
   "metadata": {},
   "outputs": [],
   "source": [
    "#ET.tostring(slides)"
   ]
  },
  {
   "cell_type": "code",
   "execution_count": null,
   "id": "aef7b176-1c0b-457b-99fb-280fa7acbc89",
   "metadata": {},
   "outputs": [],
   "source": []
  },
  {
   "cell_type": "code",
   "execution_count": null,
   "id": "d396f102-864f-4e64-887e-35812f8824b1",
   "metadata": {},
   "outputs": [],
   "source": []
  }
 ],
 "metadata": {
  "kernelspec": {
   "display_name": "Python 3 (ipykernel)",
   "language": "python",
   "name": "python3"
  },
  "language_info": {
   "codemirror_mode": {
    "name": "ipython",
    "version": 3
   },
   "file_extension": ".py",
   "mimetype": "text/x-python",
   "name": "python",
   "nbconvert_exporter": "python",
   "pygments_lexer": "ipython3",
   "version": "3.11.5"
  }
 },
 "nbformat": 4,
 "nbformat_minor": 5
}
